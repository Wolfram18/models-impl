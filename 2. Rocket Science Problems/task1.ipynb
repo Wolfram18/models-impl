{
 "cells": [
  {
   "cell_type": "markdown",
   "metadata": {},
   "source": [
    "Модель одноступенчатой ракеты - исследование скорости одноступенчатой ракеты в зависимости от заданных параметров."
   ]
  },
  {
   "cell_type": "code",
   "execution_count": 1,
   "metadata": {},
   "outputs": [],
   "source": [
    "import matplotlib.pyplot as plt\n",
    "import numpy as np\n",
    "import math"
   ]
  },
  {
   "cell_type": "code",
   "execution_count": 2,
   "metadata": {},
   "outputs": [],
   "source": [
    "m0 = 400 # масса ракеты на старте (т)\n",
    "lambd = 0.1 # коэффициент структурной массы\n",
    "mp = m0*0 # полезная нагрузка (т) - 0% от m0\n",
    "ms = m0*lambd # структурная масса (т) - 10% от m0\n",
    "mt = m0 - mp - ms # масса топлива (т) - 90% от m0\n",
    "u = 3 # скорость истечения сгорающего топлива (км/с)\n",
    "d = -0.005"
   ]
  },
  {
   "cell_type": "code",
   "execution_count": 3,
   "metadata": {},
   "outputs": [],
   "source": [
    "mtt = np.arange(mt, 0, d) # изменение массы топлива в полёте\n",
    "V = u*np.log(m0/(ms+mp+mtt)) # изменение скорости\n",
    "Vmax = max(V) # максимально достижимая скорость\n",
    "V1 = 7.91 # первая космическая скорость (км/с)"
   ]
  },
  {
   "cell_type": "code",
   "execution_count": 4,
   "metadata": {},
   "outputs": [
    {
     "name": "stdout",
     "output_type": "stream",
     "text": [
      "Vmax: 6.907380302393132\n",
      "V1: 7.91\n"
     ]
    },
    {
     "data": {
      "image/png": "[encoded data removed]",
      "text/plain": [
       "<Figure size 432x288 with 1 Axes>"
      ]
     },
     "metadata": {
      "needs_background": "light"
     },
     "output_type": "display_data"
    }
   ],
   "source": [
    "print(\"Vmax:\", Vmax)\n",
    "print(\"V1:\", V1)\n",
    "plt.title(\"Зависимость скорости V от массы топлива mt\") # заголовок\n",
    "plt.xlabel(\"mt, т\") # ось абсцисс\n",
    "plt.ylabel(\"V, км/с\") # ось ординат\n",
    "plt.grid() # включение отображение сетки\n",
    "plt.plot(mtt, V, 'b') # построение графика\n",
    "plt.gca().invert_xaxis() # реверс оси абсцисс\n",
    "plt.plot(0, Vmax, '*g') # максимально достижимая скорость\n",
    "x = np.arange(m0, -10, -10)\n",
    "y = [V1 for i in range(len(x))]\n",
    "plt.plot(x, y, '_r') # первая космическая скорость\n",
    "plt.show()"
   ]
  }
 ],
 "metadata": {
  "kernelspec": {
   "display_name": "Python 3",
   "language": "python",
   "name": "python3"
  },
  "language_info": {
   "codemirror_mode": {
    "name": "ipython",
    "version": 3
   },
   "file_extension": ".py",
   "mimetype": "text/x-python",
   "name": "python",
   "nbconvert_exporter": "python",
   "pygments_lexer": "ipython3",
   "version": "3.8.3"
  }
 },
 "nbformat": 4,
 "nbformat_minor": 4
}
