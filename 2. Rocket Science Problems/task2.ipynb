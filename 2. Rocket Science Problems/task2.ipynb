{
 "cells": [
  {
   "cell_type": "markdown",
   "metadata": {},
   "source": [
    "Модель многоступенчатой ракеты - исследование скорости многоступенчатой ракеты в зависимости от заданных параметров."
   ]
  },
  {
   "cell_type": "code",
   "execution_count": 8,
   "metadata": {},
   "outputs": [],
   "source": [
    "import matplotlib.pyplot as plt\n",
    "import numpy as np\n",
    "import math"
   ]
  },
  {
   "cell_type": "code",
   "execution_count": 9,
   "metadata": {},
   "outputs": [],
   "source": [
    "m0 = 308 # масса ракеты на старте (т)\n",
    "m1 = 172 # масса первой ступени (т)\n",
    "m2 = 100 # масса второй ступени (т)\n",
    "m3 = 25 # масса третьей ступени (т)\n",
    "lambd = 0.1 # коэффициент структурной массы\n",
    "u = 3 # скорость истечения сгорающего топлива (км/с)\n",
    "d = -0.005"
   ]
  },
  {
   "cell_type": "code",
   "execution_count": 10,
   "metadata": {},
   "outputs": [],
   "source": [
    "V_1 = 7.91 # первая космическая скорость (км/с)\n",
    "\n",
    "# первая ступень\n",
    "M1 = np.arange(m0, m0-m1*(1-lambd), d) # изменение массы топлива в полёте\n",
    "V1 = 0 + u*np.log(m0/M1) # изменение скорости\n",
    "Vmax1 = max(V1)\n",
    "\n",
    "# вторая ступень\n",
    "M2 = np.arange(m0-m1, m0-m1-m2*(1-lambd), d) \n",
    "V2 = Vmax1 + u*np.log((m0-m1)/M2) \n",
    "Vmax2 = max(V2)\n",
    "\n",
    "# третья ступень\n",
    "M3 = np.arange(m0-m1-m2, m0-m1-m2-m3*(1-lambd), d)\n",
    "V3 = Vmax2 + u*np.log((m0-m1-m2)/M3) \n",
    "Vmax3 = max(V3) # максимально достижимая скорость"
   ]
  },
  {
   "cell_type": "code",
   "execution_count": 14,
   "metadata": {},
   "outputs": [
    {
     "name": "stdout",
     "output_type": "stream",
     "text": [
      "Vmax1: 2.0949686673690735\n",
      "Vmax2: 5.346683065868918\n",
      "Vmax3: 8.288059919506068\n",
      "V_1: 7.91\n"
     ]
    },
    {
     "data": {
      "image/png": "[encoded data removed]",
      "text/plain": [
       "<Figure size 432x288 with 1 Axes>"
      ]
     },
     "metadata": {
      "needs_background": "light"
     },
     "output_type": "display_data"
    }
   ],
   "source": [
    "print(\"Vmax1:\", Vmax1)\n",
    "print(\"Vmax2:\", Vmax2)\n",
    "print(\"Vmax3:\", Vmax3)\n",
    "print(\"V_1:\", V_1)\n",
    "plt.title(\"Зависимость скорости V от массы ракеты M\") # заголовок\n",
    "plt.xlabel(\"M, т\") # ось абсцисс\n",
    "plt.ylabel(\"V, км/с\") # ось ординат\n",
    "plt.grid() # включение отображение сетки\n",
    "plt.plot(M1, V1, 'm') # построение графика\n",
    "plt.plot(M2, V2, 'y')\n",
    "plt.plot(M3, V3, 'g')\n",
    "plt.gca().invert_xaxis() # реверс оси абсцисс\n",
    "plt.plot(m0-m1-m2-m3*(1-lambd), Vmax3, '*b') # максимально достижимая скорость\n",
    "x = np.arange(m0, -10, -10)\n",
    "y = [V_1 for i in range(len(x))]\n",
    "plt.plot(x, y, '_r') # первая космическая скорость\n",
    "plt.show()"
   ]
  }
 ],
 "metadata": {
  "kernelspec": {
   "display_name": "Python 3",
   "language": "python",
   "name": "python3"
  },
  "language_info": {
   "codemirror_mode": {
    "name": "ipython",
    "version": 3
   },
   "file_extension": ".py",
   "mimetype": "text/x-python",
   "name": "python",
   "nbconvert_exporter": "python",
   "pygments_lexer": "ipython3",
   "version": "3.8.3"
  }
 },
 "nbformat": 4,
 "nbformat_minor": 4
}
