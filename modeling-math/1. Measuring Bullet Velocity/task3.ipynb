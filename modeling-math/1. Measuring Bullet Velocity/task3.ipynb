{
 "cells": [
  {
   "cell_type": "markdown",
   "metadata": {},
   "source": [
    "Модель с ящиком, использующая законы сохранения импульса и энергии - стрельба строго в горизонтальном направлении по ящику с песком массой M, закрепленном на стержне длины l. При стрельбе из ружья пуля массой m попадает в ящик, стержень отклоняется на некоторый угол α."
   ]
  },
  {
   "cell_type": "code",
   "execution_count": 1,
   "metadata": {},
   "outputs": [],
   "source": [
    "import matplotlib.pyplot as plt\n",
    "import numpy as np\n",
    "import math"
   ]
  },
  {
   "cell_type": "code",
   "execution_count": 2,
   "metadata": {},
   "outputs": [],
   "source": [
    "m = 0.005 # масса пули (кг)\n",
    "c = 140 # удельная теплоёмкость свинца (Дж/кг*град)\n",
    "lambd = 25000 # удельная теплота плавления свинца (Дж/кг)\n",
    "dt = 327 # изменение температуры пули (град)\n",
    "M = 3 # масса груза (кг)\n",
    "l = 1 # длина стержня, на котором находится груз (м)\n",
    "g = 9.80665 # ускорение свободного падения (м/с2)\n",
    "v0 = 800 # начальная скорость пули (м/с)\n",
    "h0 = 2 # высота, на которой закреплено ружьё (м)\n",
    "n = 100 # кол-во попыток\n",
    "sigma = 0.01"
   ]
  },
  {
   "cell_type": "code",
   "execution_count": 3,
   "metadata": {},
   "outputs": [],
   "source": [
    "a0 = math.acos(1 - ((m**2)*(v0**2))/(2*(m+M)**2*g*l))\n",
    "A = np.random.normal(a0,sigma,n)\n",
    "V = np.sqrt(2*(m+M)*g*l*(1-np.cos(A))/m)*np.sqrt((m+M)/m)"
   ]
  },
  {
   "cell_type": "code",
   "execution_count": 4,
   "metadata": {},
   "outputs": [
    {
     "name": "stdout",
     "output_type": "stream",
     "text": [
      "Vmin: 759.6594877010622 Vmax: 860.9064293403648\n",
      "Amin: 0.4064220795284042 Amax: 0.461511189225518\n"
     ]
    },
    {
     "data": {
      "image/png": "[encoded data removed]",
      "text/plain": [
       "<Figure size 432x288 with 1 Axes>"
      ]
     },
     "metadata": {
      "needs_background": "light"
     },
     "output_type": "display_data"
    }
   ],
   "source": [
    "Vmin = min(V)\n",
    "Vmax = max(V)\n",
    "x = np.arange(Vmin, Vmax + (Vmax-Vmin)/10, (Vmax-Vmin)/10) # диапазон с заданным шагом\n",
    "print(\"Vmin:\", Vmin, \"Vmax:\", Vmax)\n",
    "print(\"Amin:\", min(A), \"Amax:\", max(A)) # *180/math.pi\n",
    "plt.title(\"Нормальное распределение скоростей\") # заголовок\n",
    "plt.xlabel(\"V\") # ось абсцисс\n",
    "plt.ylabel(\"Count\") # ось ординат\n",
    "plt.grid() # включение отображение сетки\n",
    "plt.hist(V, x)\n",
    "plt.show()"
   ]
  },
  {
   "cell_type": "code",
   "execution_count": 5,
   "metadata": {},
   "outputs": [
    {
     "data": {
      "image/png": "[encoded data removed]",
      "text/plain": [
       "<Figure size 432x288 with 1 Axes>"
      ]
     },
     "metadata": {
      "needs_background": "light"
     },
     "output_type": "display_data"
    }
   ],
   "source": [
    "plt.title(\"Зависимость угла A от начальной скорости V\") # заголовок\n",
    "plt.xlabel(\"A\") # ось абсцисс\n",
    "plt.ylabel(\"V\") # ось ординат\n",
    "plt.grid() # включение отображение сетки\n",
    "plt.plot(A,V,'y',A,V,'ob') # построение графика\n",
    "plt.plot(a0,v0,'*r') # идеальные a и s\n",
    "plt.show()"
   ]
  },
  {
   "cell_type": "code",
   "execution_count": 31,
   "metadata": {},
   "outputs": [
    {
     "name": "stdout",
     "output_type": "stream",
     "text": [
      "meanV: 797.3333635949867 \n",
      "stdV: 17.56311968724647 \n",
      "disV: 308.4631731485445\n",
      "errA: 2 %\n"
     ]
    }
   ],
   "source": [
    "meanV = np.mean(V) # мат.ожидание/среднее\n",
    "stdV = np.std(V) # среднеквадратичное (стандартное) отклонение\n",
    "disV = stdV**2 # дисперсия\n",
    "print(\"meanV:\", meanV, \"\\nstdV:\", stdV, \"\\ndisV:\", disV)\n",
    "\n",
    "sum = 0\n",
    "for i in range(n):\n",
    "    sum = sum + abs(a0-A[i]) * abs(a0-A[i])\n",
    "dA = math.sqrt(sum/n)\n",
    "errA = dA/a0 * 100\n",
    "print(\"errA:\", int(errA), \"%\")"
   ]
  }
 ],
 "metadata": {
  "kernelspec": {
   "display_name": "Python 3",
   "language": "python",
   "name": "python3"
  },
  "language_info": {
   "codemirror_mode": {
    "name": "ipython",
    "version": 3
   },
   "file_extension": ".py",
   "mimetype": "text/x-python",
   "name": "python",
   "nbconvert_exporter": "python",
   "pygments_lexer": "ipython3",
   "version": "3.8.3"
  }
 },
 "nbformat": 4,
 "nbformat_minor": 4
}
